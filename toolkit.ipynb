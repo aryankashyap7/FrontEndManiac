{
 "cells": [
  {
   "cell_type": "code",
   "execution_count": 4,
   "metadata": {},
   "outputs": [
    {
     "data": {
      "text/plain": [
       "['1. Alarm Clock',\n",
       " '10. Sound Board',\n",
       " '11. Dad Jokes',\n",
       " '12. Event KeyCodes',\n",
       " '13. FAQ Collapse',\n",
       " '14. Random Choice Picker',\n",
       " '15. Animated Navigation',\n",
       " '16. Hexagon Shape',\n",
       " '17. Hexagon Border Hover',\n",
       " '18. Hexagon With Clip Path',\n",
       " '19. Rain Animation',\n",
       " '2. Expanding Cards',\n",
       " '20. Scrolling Text',\n",
       " '21. Wavy Cycles Loading',\n",
       " '22. Cube Background Animation',\n",
       " '23. Fluid Simulation',\n",
       " '24. Water Drop Logo Effect',\n",
       " '25. No Smoking',\n",
       " '26. Glassmorphism Calculator',\n",
       " '27. 3D Book Mockup',\n",
       " '28. WebGL Fluid Simulation with Controls',\n",
       " '29. Glass Card Hover Effect',\n",
       " '3. Progress Steps',\n",
       " '30. Glassmorphism Credit Card',\n",
       " '31. Incrementing Counter',\n",
       " '32. Drink Water',\n",
       " '33. Movie App',\n",
       " '34. Background Slider',\n",
       " '35. Theme Clock',\n",
       " '36. Button Ripple Effect',\n",
       " '37. Drag N Drop',\n",
       " '38. Sliding Image Track',\n",
       " '39. Drawing App',\n",
       " '4. Rotating Navigation',\n",
       " '40. Kinetic Loader',\n",
       " '41. Content Placeholder',\n",
       " '42. Sticky Navigation',\n",
       " '43. Double Vertical Slider',\n",
       " '44. Toast Notification',\n",
       " '45. Github Profiles',\n",
       " '46. Double Click Heart',\n",
       " '47. Auto Text Effect',\n",
       " '48. Password Generator',\n",
       " '49. Good Cheap Fast Checkboxes',\n",
       " '5. Hidden Search Widget',\n",
       " '50. Notes App',\n",
       " '51. Animated Countdown',\n",
       " '52. Image Carousel',\n",
       " '53. Hoverboard',\n",
       " '54. Pokedex',\n",
       " '55. Mobile Tab Navigation',\n",
       " '56. Password Strength Background',\n",
       " '57. 3D Boxes Background',\n",
       " '6. Blurry Loading',\n",
       " '7. Scroll Animation',\n",
       " '8. Split Landing Page',\n",
       " '9. Form Wave Animation',\n",
       " 'index.html',\n",
       " 'LICENSE',\n",
       " 'README.md',\n",
       " 'toolkit.ipynb',\n",
       " 'UI']"
      ]
     },
     "execution_count": 4,
     "metadata": {},
     "output_type": "execute_result"
    }
   ],
   "source": [
    "# Get the list of all folders in the current directory\n",
    "\n",
    "import os\n",
    "import glob\n",
    "import pandas as pd\n",
    "\n",
    "folders = glob.glob('*')\n",
    "\n",
    "folders"
   ]
  },
  {
   "cell_type": "code",
   "execution_count": 12,
   "metadata": {},
   "outputs": [],
   "source": [
    "# Get all folders in the current directory\n",
    "\n",
    "folders = [f for f in os.listdir('.') if os.path.isdir(f)]\n",
    "\n",
    "# Export all folders name in a text file new line separated\n",
    "\n",
    "with open('folders.txt', 'w') as f:\n",
    "    for item in folders:\n",
    "        f.write(\"%s \\n\" % item)\n",
    "\n"
   ]
  },
  {
   "cell_type": "code",
   "execution_count": 14,
   "metadata": {},
   "outputs": [],
   "source": [
    "# GIT DEFAULT COMMIT MESSAGE\n",
    "\n",
    "# git add \"./48. Password Generator/\"\n",
    "# git commit -m \"Added Password Generator\"\n",
    "\n",
    "\n",
    "\n",
    "# Scan all folders name in folders.txt and store in a list called git_folders\n",
    "\n",
    "git_folders = []\n",
    "with open('folders.txt', 'r') as f:\n",
    "    for line in f:\n",
    "        git_folders.append(line.strip())\n",
    "\n",
    "git_folders\n",
    "\n",
    "## Store all the folders using the default commit message, in a text file called git_commands.txt\n",
    "\n",
    "with open('git_code.txt', 'w') as f:\n",
    "    for item in git_folders:\n",
    "        f.write(\"git add \\\"./%s/\\\" \\n\" % item)\n",
    "        f.write(\"git commit -m \\\"Added %s\\\" \\n\" % item)\n",
    "\n",
    "\n",
    "\n"
   ]
  },
  {
   "cell_type": "code",
   "execution_count": 15,
   "metadata": {},
   "outputs": [],
   "source": [
    "# HTML CUSTOM CODE\n",
    "\n",
    "# <!-- 42. Sticky Navigation-->\n",
    "#       <!-- Card Details Start -->\n",
    "#       <div class=\"card\">\n",
    "#         <img src=\"./UI/assets/xx.png\" class=\"card-image\" />\n",
    "#         <h2 class=\"card-text\">42. Sticky Navigation</h2>\n",
    "#         <a href=\"./42. Sticky Navigation/index.html\" class=\"card-link\">View</a>\n",
    "#       </div>\n",
    "#       <!-- Card Details End -->\n",
    "\n",
    "# Scan all folders name in folders.txt and store in a list called html_folders\n",
    "\n",
    "html_folders = []\n",
    "with open('folders.txt', 'r') as f:\n",
    "    for line in f:\n",
    "        html_folders.append(line.strip())\n",
    "\n",
    "html_folders\n",
    "\n",
    "## Store all the folders using the default html code, in a text file called html_code.txt\n",
    "\n",
    "with open('html_code.txt', 'w') as f:\n",
    "    for item in html_folders:\n",
    "        f.write(\"<!-- %s -->\\n\" % item)\n",
    "        f.write(\"<!-- Card Details Start -->\\n\")\n",
    "        f.write(\"<div class=\\\"card\\\">\\n\")\n",
    "        f.write(\"<img src=\\\"./UI/assets/xx.png\\\" class=\\\"card-image\\\" />\\n\")\n",
    "        f.write(\"<h2 class=\\\"card-text\\\">%s</h2>\\n\" % item)\n",
    "        f.write(\"<a href=\\\"./%s/index.html\\\" class=\\\"card-link\\\">View</a>\\n\" % item)\n",
    "        f.write(\"</div>\\n\")\n",
    "        f.write(\"<!-- Card Details End -->\\n\\n\")\n",
    "\n"
   ]
  },
  {
   "cell_type": "code",
   "execution_count": null,
   "metadata": {},
   "outputs": [],
   "source": []
  }
 ],
 "metadata": {
  "kernelspec": {
   "display_name": "Python 3",
   "language": "python",
   "name": "python3"
  },
  "language_info": {
   "codemirror_mode": {
    "name": "ipython",
    "version": 3
   },
   "file_extension": ".py",
   "mimetype": "text/x-python",
   "name": "python",
   "nbconvert_exporter": "python",
   "pygments_lexer": "ipython3",
   "version": "3.11.0"
  },
  "orig_nbformat": 4,
  "vscode": {
   "interpreter": {
    "hash": "a860c9ede395f243b5a08937a05161f0f37cdec630d1b62649e007ef2598a87d"
   }
  }
 },
 "nbformat": 4,
 "nbformat_minor": 2
}
