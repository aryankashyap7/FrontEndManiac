{
 "cells": [
  {
   "cell_type": "code",
   "execution_count": null,
   "metadata": {},
   "outputs": [],
   "source": [
    "# Get the list of all folders in the current directory\n",
    "\n",
    "import os\n",
    "import glob\n",
    "import pandas as pd\n",
    "\n",
    "folders = glob.glob('*')\n",
    "\n",
    "folders"
   ]
  },
  {
   "cell_type": "code",
   "execution_count": 1,
   "metadata": {},
   "outputs": [],
   "source": [
    "# Get all folders in the current directory\n",
    "\n",
    "folders = [f for f in os.listdir('.') if os.path.isdir(f)]\n",
    "\n",
    "# Export all folders name in a text file new line separated\n",
    "\n",
    "with open('folders.txt', 'w') as f:\n",
    "    for item in folders:\n",
    "        f.write(\"%s \\n\" % item)\n",
    "\n"
   ]
  },
  {
   "cell_type": "code",
   "execution_count": 2,
   "metadata": {},
   "outputs": [],
   "source": [
    "# GIT DEFAULT COMMIT MESSAGE\n",
    "\n",
    "# git add \"./48. Password Generator/\"\n",
    "# git commit -m \"Added Password Generator\"\n",
    "\n",
    "\n",
    "\n",
    "# Scan all folders name in folders.txt and store in a list called git_folders\n",
    "\n",
    "git_folders = []\n",
    "\n",
    "with open('folders.txt', 'r') as f:\n",
    "    for line in f:\n",
    "        git_folders.append(line.strip())\n",
    "\n",
    "git_folders\n",
    "\n",
    "## Store all the folders using the default commit message, in a text file called git_commands.txt\n",
    "\n",
    "with open('git_code.txt', 'w') as f:\n",
    "    for item in git_folders:\n",
    "        f.write(\"git add \\\"./%s/\\\" \\n\" % item)\n",
    "        f.write(\"git commit -m \\\"Added %s\\\" \\n\" % item)\n",
    "\n",
    "\n",
    "\n"
   ]
  },
  {
   "cell_type": "code",
   "execution_count": 3,
   "metadata": {},
   "outputs": [],
   "source": [
    "# HTML CUSTOM CODE\n",
    "\n",
    "# <!-- 42. Sticky Navigation-->\n",
    "#       <!-- Card Details Start -->\n",
    "#       <div class=\"card\">\n",
    "#         <img src=\"./UI/assets/xx.png\" class=\"card-image\" />\n",
    "#         <h2 class=\"card-text\">42. Sticky Navigation</h2>\n",
    "#         <a href=\"./42. Sticky Navigation/index.html\" class=\"card-link\">View</a>\n",
    "#       </div>\n",
    "#       <!-- Card Details End -->\n",
    "\n",
    "# Scan all folders name in folders.txt and store in a list called html_folders\n",
    "\n",
    "html_folders = []\n",
    "with open('folders.txt', 'r') as f:\n",
    "    for line in f:\n",
    "        html_folders.append(line.strip())\n",
    "\n",
    "html_folders\n",
    "\n",
    "## Store all the folders using the default html code, in a text file called html_code.txt\n",
    "\n",
    "with open('html_code.txt', 'w') as f:\n",
    "    for item in html_folders:\n",
    "        f.write(\"<!-- %s -->\\n\" % item)\n",
    "        f.write(\"<!-- Card Details Start -->\\n\")\n",
    "        f.write(\"<div class=\\\"card\\\">\\n\")\n",
    "        f.write(\"<img src=\\\"./UI/assets/xx.png\\\" class=\\\"card-image\\\" />\\n\")\n",
    "        f.write(\"<h2 class=\\\"card-text\\\">%s</h2>\\n\" % item)\n",
    "        f.write(\"<a href=\\\"./%s/index.html\\\" class=\\\"card-link\\\">View</a>\\n\" % item)\n",
    "        f.write(\"</div>\\n\")\n",
    "        f.write(\"<!-- Card Details End -->\\n\\n\")\n",
    "\n"
   ]
  },
  {
   "cell_type": "code",
   "execution_count": null,
   "metadata": {},
   "outputs": [],
   "source": []
  }
 ],
 "metadata": {
  "kernelspec": {
   "display_name": "base",
   "language": "python",
   "name": "python3"
  },
  "language_info": {
   "codemirror_mode": {
    "name": "ipython",
    "version": 3
   },
   "file_extension": ".py",
   "mimetype": "text/x-python",
   "name": "python",
   "nbconvert_exporter": "python",
   "pygments_lexer": "ipython3",
   "version": "3.9.13"
  },
  "orig_nbformat": 4,
  "vscode": {
   "interpreter": {
    "hash": "a0800dedeceeb2be9266c98bbec2547ef0f331282e1aa8877f5859637121b223"
   }
  }
 },
 "nbformat": 4,
 "nbformat_minor": 2
}
